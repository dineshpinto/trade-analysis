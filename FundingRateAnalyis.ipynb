{
 "cells": [
  {
   "cell_type": "code",
   "execution_count": 1,
   "id": "919a6f17-fcc9-4c07-9d4d-b18aedc644e8",
   "metadata": {},
   "outputs": [],
   "source": [
    "import datetime\n",
    "import random\n",
    "from dateutil import parser\n",
    "\n",
    "import re\n",
    "import ast\n",
    "import itertools\n",
    "\n",
    "import pandas as pd\n",
    "import numpy as np\n",
    "from tabulate import tabulate\n",
    "import matplotlib.pyplot as plt\n",
    "import matplotlib.dates as mdates\n",
    "import tqdm\n",
    "from mpl_toolkits.mplot3d import Axes3D\n",
    "import plotly.graph_objects as go\n",
    "\n",
    "import src.ftx_wrapper as ftx_api\n",
    "import src.analysis as analysis\n",
    "import src.io as sio"
   ]
  },
  {
   "cell_type": "code",
   "execution_count": 2,
   "id": "bdbda581-cd6f-4119-8e16-8d57c535f26b",
   "metadata": {},
   "outputs": [],
   "source": [
    "!heroku logs --app funding-rate-bot -n 1500 > /Users/dineshpinto/PycharmProjects/trades-bot-analysis/logs/funding-rate-bot.log"
   ]
  },
  {
   "cell_type": "code",
   "execution_count": 3,
   "id": "dfddee27-666f-4eed-b2d5-6e763ce47d7e",
   "metadata": {},
   "outputs": [],
   "source": [
    "df, orders, stop_losses, take_profits = sio.parse_logfile(\"logs/funding-rate-bot.log\")"
   ]
  },
  {
   "cell_type": "code",
   "execution_count": 4,
   "id": "f21f8f02-601e-42bd-bc09-6c8e9ce18003",
   "metadata": {},
   "outputs": [],
   "source": [
    "df = sio.add_into_dataframe(df, \"data/funding_rate.csv\")\n",
    "orders = sio.add_into_pickle(orders, \"data/orders.pkl\")\n",
    "stop_losses = sio.add_into_pickle(stop_losses, \"data/stop_losses.pkl\")\n",
    "take_profits = sio.add_into_pickle(take_profits, \"data/take_profits.pkl\")"
   ]
  },
  {
   "cell_type": "code",
   "execution_count": null,
   "id": "acdecab7-05fa-4229-898e-f8545df3b61f",
   "metadata": {},
   "outputs": [],
   "source": [
    "df_price = ftx_api.get_historical_data(start_time=df.index[0].timestamp(), end_time=df.index[-1].timestamp())"
   ]
  },
  {
   "cell_type": "markdown",
   "id": "b4edb430-a452-4d99-91d7-9b3cbcfa3673",
   "metadata": {},
   "source": [
    "# Realtime"
   ]
  },
  {
   "cell_type": "code",
   "execution_count": null,
   "id": "fa1f720c-9e9b-4a93-91cc-ece73f0ca922",
   "metadata": {},
   "outputs": [],
   "source": [
    "%matplotlib widget\n",
    "fig, ax = plt.subplots(nrows=1, figsize=(12, 6))\n",
    "\n",
    "ax.plot(df.index, df.funding_rate, \"-\")\n",
    "ax.tick_params(axis='y', labelcolor=\"tab:blue\")\n",
    "ax.set_ylabel(\"Funding Rate\", color=\"tab:blue\")\n",
    "\n",
    "ax2 = ax.twinx()\n",
    "#ax2.plot(df.index, df.price, color=\"tab:orange\")\n",
    "ax2.tick_params(axis='y', labelcolor=\"tab:orange\")\n",
    "ax2.set_ylabel(\"Price\", color=\"tab:orange\")\n",
    "\n",
    "ax2.plot(df_price.index, df_price.low, color=\"tab:orange\", alpha=0.7)\n",
    "ax2.plot(df_price.index, df_price.high, color=\"tab:orange\", alpha=0.7)\n",
    "ax2.fill_between(df_price.index, df_price.low, df_price.high, color=\"tab:orange\", alpha=0.5)\n",
    "\n",
    "ax.xaxis.set_major_formatter(mdates.ConciseDateFormatter(ax.xaxis.get_major_locator()))\n",
    "\n",
    "success = []\n",
    "\n",
    "for idx, (order, stop_loss, take_profit) in enumerate(zip(orders, stop_losses, take_profits)):     \n",
    "    if order[\"side\"] == \"buy\":\n",
    "        ax.axvline(parser.parse(order[\"createdAt\"]), linestyle=\"--\", color=\"tab:green\", alpha=0.5)\n",
    "    elif order[\"side\"] == \"sell\":\n",
    "        ax.axvline(parser.parse(order[\"createdAt\"]), linestyle=\"--\", color=\"tab:red\", alpha=0.5)\n",
    "\n",
    "    try:\n",
    "        ax2.plot((parser.parse(stop_loss[\"createdAt\"]), parser.parse(stop_losses[idx+1][\"createdAt\"])), \n",
    "                 (stop_loss[\"triggerPrice\"], stop_loss[\"triggerPrice\"]), \n",
    "                 linestyle=\"--\", color='tab:red', alpha=0.5)\n",
    "        ax2.plot((parser.parse(take_profit[\"createdAt\"]), parser.parse(take_profits[idx+1][\"createdAt\"])), \n",
    "                 (take_profit[\"triggerPrice\"], take_profit[\"triggerPrice\"]), \n",
    "                 linestyle=\"--\", color='tab:green', alpha=0.5)\n",
    "    except Exception as exc:\n",
    "        ax2.plot((parser.parse(stop_loss[\"createdAt\"]), df.index[-1]), (stop_loss[\"triggerPrice\"], stop_loss[\"triggerPrice\"]),\n",
    "                 linestyle=\"--\", color='tab:red', alpha=0.5)\n",
    "        ax2.plot((parser.parse(take_profit[\"createdAt\"]), df.index[-1]), (take_profit[\"triggerPrice\"], take_profit[\"triggerPrice\"]), \n",
    "                 linestyle=\"--\", color='tab:green', alpha=0.5)\n",
    "\n",
    "ax3 = ax.twinx()\n",
    "ax3.plot(df_price.index, df_price.volume, color=\"tab:grey\", alpha=0.4)\n",
    "ax3.set_ylabel(\"Volume\")\n",
    "ax3.xaxis.set_major_formatter(mdates.ConciseDateFormatter(ax3.xaxis.get_major_locator()))\n",
    "ax3.set_yticks([])\n",
    "ax3.set_ylabel(\"\")\n",
    "\n",
    "fig.tight_layout()"
   ]
  },
  {
   "cell_type": "markdown",
   "id": "e9c36012-b7e1-47df-ab6a-db4b1a121a5e",
   "metadata": {},
   "source": [
    "# Simulator"
   ]
  },
  {
   "cell_type": "code",
   "execution_count": null,
   "id": "e2a6d5e0-356c-42a7-acb8-95b14b8d117f",
   "metadata": {},
   "outputs": [],
   "source": [
    "%matplotlib widget\n",
    "fig, ax = plt.subplots(nrows=1, figsize=(12, 7))\n",
    "\n",
    "ax.plot(df.index, df.funding_rate, \"-\")\n",
    "ax.tick_params(axis='y', labelcolor=\"tab:blue\")\n",
    "ax.set_ylabel(\"Funding Rate\", color=\"tab:blue\")\n",
    "\n",
    "ax2 = ax.twinx()\n",
    "#ax2.plot(df.index, df.price, color=\"tab:orange\")\n",
    "ax2.tick_params(axis='y', labelcolor=\"tab:orange\")\n",
    "ax2.set_ylabel(\"Price\", color=\"tab:orange\")\n",
    "\n",
    "ax2.plot(df_price.index, df_price.low, color=\"tab:orange\", alpha=0.7)\n",
    "ax2.plot(df_price.index, df_price.high, color=\"tab:orange\", alpha=0.7)\n",
    "ax2.fill_between(df_price.index, df_price.low, df_price.high, color=\"tab:orange\", alpha=0.5)\n",
    "\n",
    "ax.xaxis.set_major_formatter(mdates.ConciseDateFormatter(ax.xaxis.get_major_locator()))\n",
    "\n",
    "target_funding_rate_change = 1.5e-3\n",
    "tp_percent, sl_percent = 4, 3.5\n",
    "\n",
    "order_indexes, positions, take_profits, stop_losses, profitability = analysis.test_trade_setup(target_funding_rate_change, tp_percent, sl_percent, \n",
    "                                                                                               df, df_price, ax1=ax, ax2=ax2, plot=True)\n",
    "\n",
    "table = [\n",
    "    [\"Profit\", \"Percent\"],\n",
    "    [\"Net\", f\"{np.sum(profitability):.1f}\"],\n",
    "    [\"Median\", f\"{np.median(profitability):.1f}\"],\n",
    "    [\"Mean\", f\"{np.mean(profitability):.1f}\"],\n",
    "    [\"Min\", f\"{np.min(profitability):.1f}\"],\n",
    "    [\"Max\", f\"{np.max(profitability):.1f}\"]\n",
    "]\n",
    "print(tabulate(table, tablefmt=\"fancy_grid\", headers=\"firstrow\"))\n",
    "fig.tight_layout()"
   ]
  },
  {
   "cell_type": "markdown",
   "id": "7963e8b3-fbea-440a-88af-d98cdb07402b",
   "metadata": {},
   "source": [
    "# Optimizer"
   ]
  },
  {
   "cell_type": "code",
   "execution_count": 6,
   "id": "3c553eff-9df9-4497-b38c-3ba8549c0f2f",
   "metadata": {},
   "outputs": [
    {
     "name": "stderr",
     "output_type": "stream",
     "text": [
      "Total = 3375: : 3375it [02:14, 25.17it/s]\n"
     ]
    }
   ],
   "source": [
    "target_funding_rate_changes = np.linspace(5e-4, 1.5e-3, 15)\n",
    "tp_percents = np.linspace(1, 8, 15)\n",
    "sl_percents = np.linspace(1, 8, 15)\n",
    "\n",
    "total_size = len(target_funding_rate_changes) * len(tp_percents) * len(sl_percents)\n",
    "\n",
    "net_profits = np.zeros(total_size)\n",
    "median_profits = np.zeros(total_size)\n",
    "mean_profits = np.zeros(total_size)\n",
    "\n",
    "pbar = tqdm.tqdm(itertools.product(tp_percents, sl_percents, target_funding_rate_changes))\n",
    "\n",
    "for idx, (tp_percent, sl_percent, target_funding_rate_change) in enumerate(pbar):\n",
    "    order_indexes, positions, take_profits, stop_losses, profitability = analysis.test_trade_setup(target_funding_rate_change, tp_percent, sl_percent, \n",
    "                                                                                                   df, df_price)\n",
    "    pbar.set_description(f\"Total = {total_size}\")\n",
    "    net_profits[idx] = np.sum(profitability)\n",
    "    median_profits[idx] = np.median(profitability)\n",
    "    mean_profits[idx] = np.mean(profitability)"
   ]
  },
  {
   "cell_type": "code",
   "execution_count": null,
   "id": "96670bba-3429-4016-8dbb-ef907b6f6104",
   "metadata": {},
   "outputs": [],
   "source": [
    "X1 = np.zeros(total_size)\n",
    "Y1 = np.zeros(total_size)\n",
    "Z1 = np.zeros(total_size)\n",
    "\n",
    "for idx, (tp_percent, sl_percent, target_funding_rate_change) in enumerate(itertools.product(tp_percents, sl_percents, target_funding_rate_changes)):\n",
    "    X1[idx] = tp_percent\n",
    "    Y1[idx] = sl_percent\n",
    "    Z1[idx] = target_funding_rate_change"
   ]
  },
  {
   "cell_type": "code",
   "execution_count": null,
   "id": "39fdc004-0617-4d00-974c-b81caabfe43e",
   "metadata": {},
   "outputs": [],
   "source": [
    "fig = go.Figure(data=go.Scatter3d(\n",
    "    x=X1,\n",
    "    y=Y1,\n",
    "    z=Z1,\n",
    "    mode='markers+text',\n",
    "    marker=dict(\n",
    "        sizemode='diameter',\n",
    "        size=net_profits + abs(min(net_profits)),\n",
    "        color=net_profits,\n",
    "        colorscale = 'Viridis',\n",
    "        colorbar_title = 'Net<br>Profit',\n",
    "    ),\n",
    "))\n",
    "\n",
    "fig.update_layout(\n",
    "    scene=dict(\n",
    "        xaxis_title='Take profit',\n",
    "        yaxis_title='Stop loss',\n",
    "        zaxis_title='Funding rate change'\n",
    "    ),\n",
    "    margin=dict(l=0, r=0, b=0, t=0),\n",
    "    width=1200,\n",
    "    height=800,\n",
    ")\n",
    "fig.show()"
   ]
  },
  {
   "cell_type": "code",
   "execution_count": null,
   "id": "e7734228-83d1-478f-b7f4-0b41a5fefc45",
   "metadata": {},
   "outputs": [],
   "source": [
    "for idx, (tp_percent, sl_percent, target_funding_rate_change) in enumerate(itertools.product(tp_percents, sl_percents, target_funding_rate_changes)):\n",
    "    if idx == np.argmax(C):\n",
    "        table = [\n",
    "            [\"Parameter\", \"Optimum value\"],\n",
    "            [\"Take profit\", f\"{tp_percent:.2f}%\"],\n",
    "            [\"Stop loss\", f\"{sl_percent:.2f}%\"],\n",
    "            [\"Funding rate change\", f\"{target_funding_rate_change:.2e}\"],\n",
    "        ]\n",
    "        print(tabulate(table, tablefmt=\"fancy_grid\", headers=\"firstrow\"))\n",
    "        break"
   ]
  }
 ],
 "metadata": {
  "kernelspec": {
   "display_name": "trading-analysis",
   "language": "python",
   "name": "trading-analysis"
  },
  "language_info": {
   "codemirror_mode": {
    "name": "ipython",
    "version": 3
   },
   "file_extension": ".py",
   "mimetype": "text/x-python",
   "name": "python",
   "nbconvert_exporter": "python",
   "pygments_lexer": "ipython3",
   "version": "3.10.2"
  }
 },
 "nbformat": 4,
 "nbformat_minor": 5
}
