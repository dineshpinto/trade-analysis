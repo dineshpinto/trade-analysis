{
 "cells": [
  {
   "cell_type": "code",
   "execution_count": null,
   "id": "821bcc4e-9d74-40f5-9586-89621362d7e8",
   "metadata": {},
   "outputs": [],
   "source": [
    "fig = plt.figure(figsize=(10, 6))\n",
    "ax = fig.add_subplot(111, projection='3d')\n",
    "X, Y, Z = np.meshgrid(tp_percents, sl_percents, target_funding_rate_changes, indexing=\"ij\")\n",
    "img = ax.scatter(X, Y, Z, c=net_profits, cmap=\"inferno\")\n",
    "ax.set_xlabel(\"Take Profit\")\n",
    "ax.set_ylabel(\"Stop Loss\")\n",
    "ax.set_zlabel(\"Funding Rate Change\")\n",
    "fig.colorbar(img)\n",
    "fig.tight_layout()"
   ]
  }
 ],
 "metadata": {
  "kernelspec": {
   "display_name": "trading-analysis",
   "language": "python",
   "name": "trading-analysis"
  },
  "language_info": {
   "codemirror_mode": {
    "name": "ipython",
    "version": 3
   },
   "file_extension": ".py",
   "mimetype": "text/x-python",
   "name": "python",
   "nbconvert_exporter": "python",
   "pygments_lexer": "ipython3",
   "version": "3.10.2"
  }
 },
 "nbformat": 4,
 "nbformat_minor": 5
}
