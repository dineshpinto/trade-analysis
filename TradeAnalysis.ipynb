{
 "cells": [
  {
   "cell_type": "code",
   "execution_count": 1,
   "id": "5389930a-5b5e-43fd-9a39-bdd94108fbc3",
   "metadata": {},
   "outputs": [],
   "source": [
    "import trade_analysis as ta\n",
    "import datetime\n",
    "import pandas as pd\n",
    "import numpy as np\n",
    "from tabulate import tabulate\n",
    "import matplotlib.pyplot as plt\n",
    "import random\n",
    "from dateutil import parser\n",
    "import matplotlib.dates as mdates\n",
    "import re"
   ]
  },
  {
   "cell_type": "code",
   "execution_count": 2,
   "id": "28baff1c-a5f8-4be0-bad4-90cce22444de",
   "metadata": {},
   "outputs": [],
   "source": [
    "start_time = datetime.datetime.strptime(\"14/01/2022-00:00\", \"%d/%m/%Y-%H:%M\").replace(tzinfo=datetime.timezone.utc).timestamp()\n",
    "end_time = datetime.datetime.utcnow().timestamp()"
   ]
  },
  {
   "cell_type": "code",
   "execution_count": null,
   "id": "fadf4706-f999-4391-a3bc-36cf4aa202d5",
   "metadata": {},
   "outputs": [],
   "source": [
    "df = ta.get_ftx_fills(start_time, end_time)"
   ]
  },
  {
   "cell_type": "code",
   "execution_count": null,
   "id": "897f7f62-63e6-4d9f-9ec7-36f2dcc0818a",
   "metadata": {},
   "outputs": [],
   "source": [
    "df_prices = ta.get_ftx_historical_prices(start_time, end_time)"
   ]
  },
  {
   "cell_type": "code",
   "execution_count": null,
   "id": "1e8f55cc-1d3a-4ef0-a27e-66b08fe1f2cd",
   "metadata": {},
   "outputs": [],
   "source": [
    "df_trades = pd.DataFrame(columns=[\"entry_time\", \"entry\", \"exit_time\", \"exit\", \"side\", \"size\", \"min\", \"max\", \"profit\", \"drawdown\", \"drawdown_idx\", \n",
    "                                  \"drawup\", \"drawup_idx\", \"drawdown_till_drawup\"])\n",
    "\n",
    "net_profit = 0\n",
    "\n",
    "idx3 = 0\n",
    "for idx in range(0, len(df) - 1, 2):\n",
    "    if df.iloc[idx][\"side\"] == \"buy\":\n",
    "        profit = (df.iloc[idx + 1][\"price\"] - df.iloc[idx][\"price\"]) * df.iloc[idx][\"size\"]\n",
    "    elif df.iloc[idx][\"side\"] == \"sell\":\n",
    "        profit = (df.iloc[idx][\"price\"] - df.iloc[idx + 1][\"price\"]) * df.iloc[idx][\"size\"]\n",
    "    net_profit += profit\n",
    "    \n",
    "    start_idx, end_idx = 0, 0\n",
    "    for idx2 in range(len(df_prices)):\n",
    "        if not start_idx:\n",
    "            if df_prices.index[idx2] >= df.index[idx].round(freq='5min'):\n",
    "                start_idx = idx2\n",
    "        if not end_idx:\n",
    "            if df_prices.index[idx2] >= df.index[idx + 1].round(freq='5min'):\n",
    "                end_idx = idx2\n",
    "                \n",
    "    if end_idx - start_idx < 3:\n",
    "        continue\n",
    "    \n",
    "    min_value, min_value_idx = df_prices.iloc[start_idx:end_idx][\"low\"].min(), df_prices.iloc[start_idx:end_idx][\"low\"].argmin()\n",
    "    max_value, max_value_idx = df_prices.iloc[start_idx:end_idx][\"high\"].max(), df_prices.iloc[start_idx:end_idx][\"high\"].argmax()\n",
    "    \n",
    "    max_neg_change = (df.iloc[idx][\"price\"] - min_value) / min_value * 100\n",
    "    max_pos_change = (max_value - df.iloc[idx][\"price\"]) / df.iloc[idx][\"price\"] * 100\n",
    "    \n",
    "    min_value_drawup = df_prices.iloc[start_idx:start_idx + min_value_idx][\"low\"].min()\n",
    "    max_value_drawup = df_prices.iloc[start_idx:start_idx + max_value_idx][\"high\"].max()\n",
    "    max_neg_change_drawup = (df.iloc[idx][\"price\"] - min_value_drawup) / min_value_drawup * 100\n",
    "    max_pos_change_drawup = (max_value_drawup - df.iloc[idx][\"price\"]) / df.iloc[idx][\"price\"] * 100\n",
    "        \n",
    "    if df.iloc[idx][\"side\"] == \"buy\":\n",
    "        df_trades.loc[idx3] = [df.index[idx], df.iloc[idx][\"price\"], df.index[idx+1], df.iloc[idx+1][\"price\"], df.iloc[idx][\"side\"], df.iloc[idx][\"size\"], \n",
    "                               min_value, max_value, profit, max_neg_change, min_value_idx, max_pos_change, max_value_idx, max_neg_change_drawup]\n",
    "    elif df.iloc[idx][\"side\"] == \"sell\":\n",
    "        df_trades.loc[idx3] = [df.index[idx], df.iloc[idx][\"price\"], df.index[idx+1], df.iloc[idx+1][\"price\"], df.iloc[idx][\"side\"], df.iloc[idx][\"size\"], \n",
    "                               min_value, max_value, profit, max_pos_change, max_value_idx, max_neg_change, min_value_idx, max_pos_change_drawup]\n",
    "    idx3 += 1\n",
    "    \n",
    "df_trades['pct_change'] = np.where(df_trades.side == \"sell\", (df_trades.entry - df_trades.exit) / df_trades.exit * 100, \n",
    "                                   (df_trades.exit - df_trades.entry) / df_trades.entry * 100)"
   ]
  },
  {
   "cell_type": "code",
   "execution_count": null,
   "id": "04533869-d112-47d5-b885-b3fd5d60d4d2",
   "metadata": {},
   "outputs": [],
   "source": [
    "df_trades"
   ]
  },
  {
   "cell_type": "code",
   "execution_count": null,
   "id": "c1acbe42-e63f-44fc-aaff-09fa557526ce",
   "metadata": {},
   "outputs": [],
   "source": [
    "df_trades.drawdown_till_drawup.median()"
   ]
  },
  {
   "cell_type": "code",
   "execution_count": null,
   "id": "f59a17cd-bedb-4b18-abb1-56d242e3188e",
   "metadata": {},
   "outputs": [],
   "source": [
    "table = [\n",
    "    ['', 'Drawdown', 'Drawup', \"Pct. Change\"], \n",
    "    ['Median', df_trades.drawdown.median(), df_trades.drawup.median(), df_trades[\"pct_change\"].median()], \n",
    "    ['Mean', df_trades.drawdown.mean(), df_trades.drawup.mean(), df_trades[\"pct_change\"].mean()], \n",
    "    ['Max', df_trades.drawdown.max(), df_trades.drawup.max(), df_trades[\"pct_change\"].max()],\n",
    "    ['Min', df_trades.drawdown.min(), df_trades.drawup.min(), df_trades[\"pct_change\"].min()],\n",
    "    ['Hit First', (df_trades.drawdown_idx < df_trades.drawup_idx).sum(), (df_trades.drawup_idx < df_trades.drawdown_idx).sum()],\n",
    "    ['Median*Hit First', df_trades.drawdown.median() * (df_trades.drawdown_idx < df_trades.drawup_idx).sum(), df_trades.drawup.median() * (df_trades.drawup_idx < df_trades.drawdown_idx).sum()]\n",
    "]\n",
    "print(tabulate(table, headers='firstrow', tablefmt='fancy_grid'))"
   ]
  },
  {
   "cell_type": "markdown",
   "id": "c1b5995e-402f-4b00-b8c1-111747f9ad47",
   "metadata": {},
   "source": [
    "# Optimizing position close"
   ]
  },
  {
   "cell_type": "code",
   "execution_count": null,
   "id": "b6a14c25-98c7-4d6a-ae1c-35a5775edea1",
   "metadata": {},
   "outputs": [],
   "source": [
    "drawdown_medians = []\n",
    "drawup_medians = []\n",
    "\n",
    "drawdown_means = []\n",
    "drawup_means = []\n",
    "\n",
    "drawdown_hit_first = []\n",
    "drawup_hit_first = []\n",
    "\n",
    "drawdown_till_drawups = []\n",
    "\n",
    "net_profit = 0\n",
    "\n",
    "for _end_idx in range(2, 30):\n",
    "    df_trades = pd.DataFrame(columns=[\"entry_time\", \"entry\", \"exit_time\", \"exit\", \"side\", \"size\", \"min\", \"max\", \"profit\", \"drawdown\", \"drawdown_idx\", \n",
    "                                  \"drawup\", \"drawup_idx\", \"drawdown_till_drawup\"])\n",
    "\n",
    "    idx3 = 0\n",
    "    for idx in range(0, len(df) - 1, 2):\n",
    "        if df.iloc[idx][\"side\"] == \"buy\":\n",
    "            profit = (df.iloc[idx + 1][\"price\"] - df.iloc[idx][\"price\"]) * df.iloc[idx][\"size\"]\n",
    "        elif df.iloc[idx][\"side\"] == \"sell\":\n",
    "            profit = (df.iloc[idx][\"price\"] - df.iloc[idx + 1][\"price\"]) * df.iloc[idx][\"size\"]\n",
    "        net_profit += profit\n",
    "\n",
    "        start_idx = 0\n",
    "        for idx2 in range(len(df_prices)):\n",
    "            if not start_idx:\n",
    "                if df_prices.index[idx2] >= df.index[idx].round(freq='5min'):\n",
    "                    start_idx = idx2\n",
    "\n",
    "        end_idx = start_idx + _end_idx\n",
    "\n",
    "        min_value, min_value_idx = df_prices.iloc[start_idx:end_idx][\"low\"].min(), df_prices.iloc[start_idx:end_idx][\"low\"].argmin()\n",
    "        max_value, max_value_idx = df_prices.iloc[start_idx:end_idx][\"high\"].max(), df_prices.iloc[start_idx:end_idx][\"high\"].argmax()\n",
    "\n",
    "        max_neg_change = (df.iloc[idx][\"price\"] - min_value) / min_value * 100\n",
    "        max_pos_change = (max_value - df.iloc[idx][\"price\"]) / df.iloc[idx][\"price\"] * 100\n",
    "\n",
    "        min_value_drawup = df_prices.iloc[start_idx:start_idx + min_value_idx][\"low\"].min()\n",
    "        max_value_drawup = df_prices.iloc[start_idx:start_idx + max_value_idx][\"high\"].max()\n",
    "        max_neg_change_drawup = (df.iloc[idx][\"price\"] - min_value_drawup) / min_value_drawup * 100\n",
    "        max_pos_change_drawup = (max_value_drawup - df.iloc[idx][\"price\"]) / df.iloc[idx][\"price\"] * 100\n",
    "\n",
    "        if df.iloc[idx][\"side\"] == \"buy\":\n",
    "            df_trades.loc[idx3] = [df.index[idx], df.iloc[idx][\"price\"], df.index[idx+1], df.iloc[idx+1][\"price\"], df.iloc[idx][\"side\"], df.iloc[idx][\"size\"], \n",
    "                                   min_value, max_value, profit, max_neg_change, min_value_idx, max_pos_change, max_value_idx, max_neg_change_drawup]\n",
    "        elif df.iloc[idx][\"side\"] == \"sell\":\n",
    "            df_trades.loc[idx3] = [df.index[idx], df.iloc[idx][\"price\"], df.index[idx+1], df.iloc[idx+1][\"price\"], df.iloc[idx][\"side\"], df.iloc[idx][\"size\"], \n",
    "                                   min_value, max_value, profit, max_pos_change, max_value_idx, max_neg_change, min_value_idx, max_pos_change_drawup]\n",
    "        idx3 += 1\n",
    "    \n",
    "    drawdown_medians.append(df_trades.drawdown.median())\n",
    "    drawup_medians.append(df_trades.drawup.median())\n",
    "\n",
    "    drawdown_means.append(df_trades.drawdown.mean())\n",
    "    drawup_means.append(df_trades.drawup.mean())\n",
    "    \n",
    "    drawdown_hit_first.append((df_trades.drawdown_idx < df_trades.drawup_idx).sum())\n",
    "    drawup_hit_first.append((df_trades.drawup_idx < df_trades.drawdown_idx).sum())\n",
    "    \n",
    "    drawdown_till_drawups.append(df_trades.drawdown_till_drawup.median())"
   ]
  },
  {
   "cell_type": "markdown",
   "id": "0b8486f4-3d1b-4b36-a4e1-df300b50b944",
   "metadata": {},
   "source": [
    "# Optimal results: Two periods (10 mins)"
   ]
  },
  {
   "cell_type": "code",
   "execution_count": null,
   "id": "adf8eab9-20d7-4aef-998d-f4a7fdffa310",
   "metadata": {},
   "outputs": [],
   "source": [
    "table = [\n",
    "    ['', 'Drawdown', 'Drawup', \"Pct. Change\"], \n",
    "    ['Median', df_trades.drawdown.median(), df_trades.drawup.median(), df_trades[\"pct_change\"].median()], \n",
    "    ['Mean', df_trades.drawdown.mean(), df_trades.drawup.mean(), df_trades[\"pct_change\"].mean()], \n",
    "    ['Max', df_trades.drawdown.max(), df_trades.drawup.max(), df_trades[\"pct_change\"].max()],\n",
    "    ['Min', df_trades.drawdown.min(), df_trades.drawup.min(), df_trades[\"pct_change\"].min()],\n",
    "    ['Hit First', (df_trades.drawdown_idx < df_trades.drawup_idx).sum(), (df_trades.drawup_idx < df_trades.drawdown_idx).sum()],\n",
    "    ['Median*Hit First', df_trades.drawdown.median() * (df_trades.drawdown_idx < df_trades.drawup_idx).sum(), df_trades.drawup.median() * (df_trades.drawup_idx < df_trades.drawdown_idx).sum()]\n",
    "]\n",
    "print(tabulate(table, headers='firstrow', tablefmt='fancy_grid'))"
   ]
  },
  {
   "cell_type": "markdown",
   "id": "3877bd31-cdb6-4168-a477-92da36bf637a",
   "metadata": {},
   "source": [
    "# Variation with period"
   ]
  },
  {
   "cell_type": "code",
   "execution_count": null,
   "id": "cbd79bba-b032-42d7-a390-2bcf7643f9c0",
   "metadata": {},
   "outputs": [],
   "source": [
    "fig, (ax, ax1, ax2, ax3) = plt.subplots(nrows=4, sharex=True, figsize=(15, 10))\n",
    "\n",
    "x = np.arange(2, 30)\n",
    "\n",
    "ax.plot(x, drawdown_medians, \"o-\", label=\"Drawdown median\", color=\"indianred\")\n",
    "ax.plot(x, drawup_medians, \"d-\", label=\"Drawup median\", color=\"forestgreen\")\n",
    "ax.plot(x, drawdown_means, \"o-\", label=\"Drawdown mean\", color=\"lightcoral\")\n",
    "ax.plot(x, drawup_means, \"d-\", label=\"Drawup mean\", color=\"limegreen\")\n",
    "ax.plot(x, drawdown_till_drawups, \"s-\", label=\"Median drawdown till drawup\", color=\"tab:red\")\n",
    "ax.set_ylabel(\"Percent\")\n",
    "ax.legend()\n",
    "\n",
    "ax1.plot(x, drawup_hit_first, \"o-\", label=\"Drawup hit first\", color=\"forestgreen\")\n",
    "ax1.plot(x, drawdown_hit_first, \"o-\", label=\"Drawdown hit first\", color=\"indianred\")\n",
    "ax1.set_ylabel(\"Hit first\")\n",
    "ax1.legend()\n",
    "\n",
    "ax2.plot(x, np.array(drawup_hit_first) / np.array(drawdown_hit_first), \"o-\", color=\"forestgreen\")\n",
    "ax2.set_ylabel(\"Draup/Drawdown hit first ratio\")\n",
    "\n",
    "ax3.plot(x, np.array(drawdown_medians) * np.array(drawdown_hit_first), \"o-\", label=\"Drawdown median * hit first\", color=\"indianred\")\n",
    "ax3.plot(x, np.array(drawup_medians) * np.array(drawup_hit_first), \"o-\", label=\"Drawup median * hit first\", color=\"forestgreen\")\n",
    "ax3.legend()\n",
    "\n",
    "ax3.set_xlabel(\"Periods (x5 mins)\")\n",
    "\n",
    "#ax.set_ylim(0.2, 0.6)\n",
    "#ax.set_xlim(1.5, 3.5)\n",
    "#fig.savefig(\"results/2022-01-23_optimal_closing_period_region.jpg\", dpi=600)"
   ]
  },
  {
   "cell_type": "markdown",
   "id": "8cc62ed4-dab8-4b57-9416-4769fcfc83da",
   "metadata": {},
   "source": [
    "# Expected return"
   ]
  },
  {
   "cell_type": "code",
   "execution_count": null,
   "id": "baeb5fb1-f26f-4884-9c09-235f8b09d195",
   "metadata": {},
   "outputs": [],
   "source": [
    "drawdown_till_drawups[0]"
   ]
  },
  {
   "cell_type": "code",
   "execution_count": null,
   "id": "f7e4a533-5181-4c3b-bd50-7bf417075321",
   "metadata": {},
   "outputs": [],
   "source": [
    "inital_capital = 100000\n",
    "percent_profitable = 25 / (25 + 18) * 100\n",
    "profit_pct = 0.36\n",
    "loss_pct = 0.25\n",
    "num_trades = 100"
   ]
  },
  {
   "cell_type": "code",
   "execution_count": null,
   "id": "ba988162-1946-4c11-b3e4-3749fdb577e1",
   "metadata": {},
   "outputs": [],
   "source": [
    "def calculate_returns(inital_capital, percent_profitable, profit_pct, loss_pct, num_trades):\n",
    "    num_profitable = int(num_trades * percent_profitable / 100)\n",
    "    num_unprofitable = num_trades - num_profitable\n",
    "    \n",
    "    profitable_unprofitable_list = ['profitable'] * num_profitable + ['unprofitable'] * num_unprofitable\n",
    "    \n",
    "    final_capital = inital_capital\n",
    "\n",
    "    for n in range(num_trades):\n",
    "        choice = random.choice(profitable_unprofitable_list)\n",
    "        if choice == \"profitable\":\n",
    "            final_capital += profit_pct/100 * final_capital\n",
    "        else:\n",
    "            final_capital -= profit_pct/100 * final_capital\n",
    "            \n",
    "    return final_capital, num_profitable, num_unprofitable"
   ]
  },
  {
   "cell_type": "code",
   "execution_count": null,
   "id": "3201e95d-a01c-4aa6-9c91-60c194052b1e",
   "metadata": {},
   "outputs": [],
   "source": [
    "calculate_returns(inital_capital, percent_profitable, profit_pct, loss_pct, num_trades)"
   ]
  },
  {
   "cell_type": "code",
   "execution_count": null,
   "id": "7eee81d4-3020-45af-a8e4-83996c895a8a",
   "metadata": {},
   "outputs": [],
   "source": [
    "table = [\n",
    "    ['Inital capital', 'Num trades', 'Num profitable', 'Num unprofitable', \"Final capital\"], \n",
    "    [inital_capital, num_trades, num_profitable, num_unprofitable, final_capital], \n",
    "]\n",
    "print(tabulate(table, headers='firstrow', tablefmt='fancy_grid'))"
   ]
  },
  {
   "cell_type": "markdown",
   "id": "d463f36a-76be-4d6f-b32d-e8bc24b78c71",
   "metadata": {},
   "source": [
    "# Funding rate trading"
   ]
  },
  {
   "cell_type": "code",
   "execution_count": null,
   "id": "2e0f9d36-a9d2-45d7-825a-c541cc9de6b1",
   "metadata": {},
   "outputs": [],
   "source": [
    "btc_price = []\n",
    "whale_position = []\n",
    "net_position = []\n",
    "funding_rate = []\n",
    "times = []\n",
    "\n",
    "with open(\"whale-trades-bot.log\", 'r') as f:\n",
    "    for line in f:\n",
    "        if \"Whale\" in line:\n",
    "            match = re.findall(\"-?\\d*\\.?\\d+\", line)\n",
    "            times.append(parser.parse(line[:29]))\n",
    "            btc_price.append(float(match[9]))\n",
    "            whale_position.append(float(match[10]))\n",
    "            net_position.append(float(match[11]))\n",
    "            funding_rate.append(float(match[12]) * 10**int(match[13]))"
   ]
  },
  {
   "cell_type": "code",
   "execution_count": null,
   "id": "4bf363c4-c20b-4634-a54c-ff2b9f5628c0",
   "metadata": {},
   "outputs": [],
   "source": [
    "fig, (ax1, ax3) = plt.subplots(nrows=2, figsize=(15, 10))\n",
    "\n",
    "ax1.plot(times, whale_position, label=\"Whale\")\n",
    "ax1.plot(times, net_position, label=\"Net\")\n",
    "ax1.legend()\n",
    "ax1.axhline(10, linestyle=\"--\", color=\"tab:grey\")\n",
    "ax1.axhline(-10, linestyle=\"--\", color=\"tab:grey\")\n",
    "\n",
    "ax2 = ax1.twinx()\n",
    "ax2.plot(times, btc_price, color=\"tab:red\")\n",
    "ax2.tick_params(axis='y', labelcolor=\"tab:red\")\n",
    "\n",
    "ax3.plot(times, funding_rate, \".-\")\n",
    "\n",
    "ax1.xaxis.set_major_formatter(mdates.ConciseDateFormatter(ax1.xaxis.get_major_locator()))\n",
    "\n",
    "for idx in range(len(funding_rate) - 1):\n",
    "    current_rate = funding_rate[idx] + 1\n",
    "    next_rate = funding_rate[idx + 1] + 1\n",
    "    funding_rate_change = abs(current_rate - next_rate) / next_rate * 100\n",
    "    if funding_rate_change > 4e-4:\n",
    "        if current_rate > next_rate:\n",
    "            ax3.axvline(times[idx], linestyle=\"--\", color=\"tab:red\")\n",
    "            ax1.axvline(times[idx], linestyle=\"--\", color=\"tab:red\")\n",
    "        else:\n",
    "            ax3.axvline(times[idx], linestyle=\"--\", color=\"tab:green\")\n",
    "            ax1.axvline(times[idx], linestyle=\"--\", color=\"tab:green\")"
   ]
  },
  {
   "cell_type": "code",
   "execution_count": null,
   "id": "d1c898c8-0fd2-4194-aa21-b292d3e9475b",
   "metadata": {},
   "outputs": [],
   "source": []
  },
  {
   "cell_type": "code",
   "execution_count": null,
   "id": "ea88c996-5c28-492a-bafc-2bd8a3ca8808",
   "metadata": {},
   "outputs": [],
   "source": []
  }
 ],
 "metadata": {
  "kernelspec": {
   "display_name": "Python 3 (ipykernel)",
   "language": "python",
   "name": "python3"
  },
  "language_info": {
   "codemirror_mode": {
    "name": "ipython",
    "version": 3
   },
   "file_extension": ".py",
   "mimetype": "text/x-python",
   "name": "python",
   "nbconvert_exporter": "python",
   "pygments_lexer": "ipython3",
   "version": "3.10.2"
  }
 },
 "nbformat": 4,
 "nbformat_minor": 5
}
